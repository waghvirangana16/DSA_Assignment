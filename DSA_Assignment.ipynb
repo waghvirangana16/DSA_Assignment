{
 "cells": [
  {
   "cell_type": "code",
   "execution_count": 13,
   "id": "ca4572a0",
   "metadata": {},
   "outputs": [
    {
     "name": "stdout",
     "output_type": "stream",
     "text": [
      "abcdef\n",
      "Number of palindromic subsequence is: \n",
      "6\n"
     ]
    }
   ],
   "source": [
    "##Problem 2-- Number of palindromic sequences\n",
    "\n",
    "def cp( str):\n",
    "        n = len(str)\n",
    "        if n==0 or n==2:\n",
    "            return n\n",
    "        count = 0\n",
    "        i = 0\n",
    "        for i in range(n):\n",
    "            j=i\n",
    "            k=i\n",
    "            while(j>=0 and k<n and str[j]==str[k]):\n",
    "                j=j-1\n",
    "                k=k+1\n",
    "                count = count+1\n",
    "                \n",
    "            j=i\n",
    "            k=i+1\n",
    "            while(j>=0 and k<n and str[j]==str[k]):\n",
    "                j=j-1\n",
    "                k=k+1\n",
    "                count = count+1\n",
    "        print(count)\n",
    "        \n",
    "str=input()\n",
    "print(\"Number of palindromic subsequence is: \")\n",
    "cp(str)"
   ]
  },
  {
   "cell_type": "code",
   "execution_count": null,
   "id": "293ce7b4",
   "metadata": {},
   "outputs": [],
   "source": []
  }
 ],
 "metadata": {
  "kernelspec": {
   "display_name": "Python 3 (ipykernel)",
   "language": "python",
   "name": "python3"
  },
  "language_info": {
   "codemirror_mode": {
    "name": "ipython",
    "version": 3
   },
   "file_extension": ".py",
   "mimetype": "text/x-python",
   "name": "python",
   "nbconvert_exporter": "python",
   "pygments_lexer": "ipython3",
   "version": "3.9.12"
  }
 },
 "nbformat": 4,
 "nbformat_minor": 5
}
